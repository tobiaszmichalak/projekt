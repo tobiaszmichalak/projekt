{
 "cells": [
  {
   "cell_type": "markdown",
   "id": "fd84a3cb-c78e-4e5c-bae6-fd4cf2607994",
   "metadata": {},
   "source": [
    "# Środowisko produkcyjne z modelem ML\n",
    "\n",
    "## Cel\n",
    "Celem laboratorium jest zapoznanie studentów z tworzeniem aplikacji REST API w Pythonie z wykorzystaniem biblioteki Flask oraz jej konteneryzacją w Dockerze. \n",
    "Nauczysz się:\n",
    "- Tworzenia prostego REST API,\n",
    "- Obsługi zapytań HTTP i obsługi błędów w API,\n",
    "- Testowania API z wykorzystaniem `pytest`,\n",
    "- Przenoszenia aplikacji do kontenera Docker.\n",
    "\n",
    "## 1. Tworzenie aplikacji REST API\n",
    "Naszym zadaniem jest wystawienie aplikacji w Pythonie, która na żądanie klienta udzieli odpowiedzi na podstawie predykcji wygenerowanej przez model.\n",
    "\n",
    "Aplikację napiszemy w Pythonie z wykorzystaniem **Flask 3.0.3**.\n",
    "\n",
    "### Kod minimalnej aplikacji Flask\n",
    "Naszą aplikację chcemy uruchomić lokalnie, a następnie w prosty sposób przenieść i uruchomić na dowolnym komputerze. \n",
    "Dlatego naturalnym rozwiązaniem jest zapisanie kodu w pliku z rozszerzeniem .py.\n",
    "\n",
    "Aby automatycznie zapisać kod aplikacji do pliku app.py, wykorzystamy magiczną komendę `%%file plik.py`."
   ]
  },
  {
   "cell_type": "code",
   "execution_count": 1,
   "id": "012342a7-2398-491d-b754-6c0a0c790d3b",
   "metadata": {},
   "outputs": [
    {
     "name": "stdout",
     "output_type": "stream",
     "text": [
      "Writing app.py\n"
     ]
    }
   ],
   "source": [
    "%%file app.py\n",
    "from flask import Flask, jsonify\n",
    "\n",
    "app = Flask(__name__)\n",
    "\n",
    "@app.route('/')\n",
    "def home():\n",
    "    return jsonify({\"message\": \"Hello, World!\"})\n",
    "\n",
    "if __name__ == '__main__':\n",
    "    app.run()"
   ]
  },
  {
   "cell_type": "markdown",
   "id": "3456b1ca-7103-4460-8124-884d7b3bde1e",
   "metadata": {},
   "source": [
    "> Uwaga! W dokumentacji Flask w kodzie podstawowej aplikacji nie występują dwie ostatnie linie odpowiedzialne za uruchomienie serwera.\n",
    "```python\n",
    "if __name__ == '__main__':\n",
    "    app.run()\n",
    "```\n",
    "\n",
    "Wyjaśnijmy co zawiera przykładowy kod.\n",
    "\n",
    "1. `from flask import Flask` Załadowanie biblioteki \n",
    "2. `app = Flask(__name__)` utworzenie interfejsu serwera API\n",
    "3. kod podstrony z wykorzystaniem dekoratora\n",
    "```python\n",
    "@app.route('/')\n",
    "def home():\n",
    "    return jsonify({\"message\": \"Hello, World!\"})\n",
    "```\n",
    "Dekoratory w Pythonie pozwalają modyfikować zachowanie funkcji bez zmiany jej kodu. Flask wykorzystuje dekoratory do tworzenia tras (@app.route), ale można je także stosować w analizie danych – np. do logowania czasu wykonania funkcji lub obsługi błędów.\n",
    "\n",
    "#### Przykład: Normalizacja wartości w danych\n",
    "\n",
    "Załóżmy, że mamy funkcję, która pobiera dane z pliku CSV i zwraca listę wartości. Dodamy dekorator, który automatycznie przeskaluje dane do zakresu 0-1, co często jest wymagane przed analizą statystyczną lub trenowaniem modeli ML.\n",
    "   "
   ]
  },
  {
   "cell_type": "code",
   "execution_count": 2,
   "id": "2970f1b1-3172-49f6-b2b6-df577bef6bdd",
   "metadata": {},
   "outputs": [
    {
     "name": "stdout",
     "output_type": "stream",
     "text": [
      "Dane po normalizacji: [0.0, 0.125, 0.25, 0.5, 1.0]\n"
     ]
    },
    {
     "data": {
      "text/plain": [
       "[0.0, 0.125, 0.25, 0.5, 1.0]"
      ]
     },
     "execution_count": 2,
     "metadata": {},
     "output_type": "execute_result"
    }
   ],
   "source": [
    "import numpy as np\n",
    "\n",
    "# Dekorator do normalizacji danych\n",
    "def normalize_data(func):\n",
    "    def wrapper(*args, **kwargs):\n",
    "        data = func(*args, **kwargs)  # Pobranie oryginalnych danych\n",
    "        min_val, max_val = min(data), max(data)\n",
    "        normalized = [(x - min_val) / (max_val - min_val) for x in data]\n",
    "        print(\"Dane po normalizacji:\", normalized)\n",
    "        return normalized\n",
    "    return wrapper\n",
    "\n",
    "\n",
    "@normalize_data\n",
    "def get_data():\n",
    "    return [10, 15, 20, 30, 50]\n",
    "\n",
    "get_data()"
   ]
  },
  {
   "cell_type": "markdown",
   "id": "8e6bd257-a697-4dc7-b6fb-c298d9862045",
   "metadata": {},
   "source": [
    "> Ćwiczenie: „Napisz dekorator, który zaokrągla wartości do 2 miejsc po przecinku.”\n",
    "\n",
    "### Obsługa błędów w API\n",
    "Dodajmy obsługę błędów, np. kiedy klient poda niepoprawne dane:\n",
    "```python\n",
    "@app.errorhandler(404)\n",
    "def not_found(error):\n",
    "    return jsonify({\"error\": \"Not Found\"}), 404\n",
    "\n",
    "@app.errorhandler(400)\n",
    "def bad_request(error):\n",
    "    return jsonify({\"error\": \"Bad Request\"}), 400\n",
    "```\n",
    "\n",
    "## Uruchomienie serwera lokalnie\n",
    "Uruchomienie serwera moze odbyć się na przynajmniej na dwa sposoby.\n",
    "\n",
    "### Uruchomienie serwera przez terminal\n",
    "Otwórz termianal w lokalizacji gdzie znajduje się plik aplikacji\n",
    "\n",
    "```python\n",
    "# TA CZĘŚĆ ODPOWIADA ZA URUCHOMIENIE SERWERA PODCZAS URUCHOMIENIA SKRYPTU\n",
    "if __name__ == '__main__':\n",
    "    app.run()\n",
    "```\n",
    "\n",
    "```sh\n",
    "python app.py\n",
    "```\n",
    "lub (jeśli nie ma fragmentu `app.run()`) \n",
    "```sh\n",
    "flask run\n",
    "```\n",
    "Powinna pojawić się informacja podobna do ponizszej:\n",
    "```sh\n",
    " * Serving Flask app 'app'\n",
    " * Debug mode: off\n",
    "WARNING: This is a development server. Do not use it in a production deployment. Use a production WSGI server instead.\n",
    " * Running on http://127.0.0.1:5000\n",
    "Press CTRL+C to quit\n",
    "```\n",
    "W celu weryfikacji działania możesz otworzyć nowe okno terminalu wpisując:\n",
    "```sh\n",
    "curl localhost:5000\n",
    "\\{\"message\":\"Hello, World!\"\\}\n",
    "```\n",
    "### Uruchomienie serwera w notatniku\n",
    "Bezpośrenie uruchomienia kodu w notatniku spowoduje uruchomienie serwera i zatrzymanie jakiejkolwiek mozliwości realizacji kodu. Aby tego uniknąć mozesz wykorzystać bibliotekę subprocess."
   ]
  },
  {
   "cell_type": "code",
   "execution_count": 6,
   "id": "381c211c-aaf0-4ce2-8295-05c5a1b1349e",
   "metadata": {},
   "outputs": [],
   "source": [
    "import subprocess\n",
    "p = subprocess.Popen([\"python\", \"app.py\"])"
   ]
  },
  {
   "cell_type": "markdown",
   "id": "a09d6f26-0d08-41ee-ad6d-d3f6866a67a3",
   "metadata": {},
   "source": [
    "Jeśli potrzebujemy zamknąć subprocess wykonaj:"
   ]
  },
  {
   "cell_type": "code",
   "execution_count": 12,
   "id": "fb9cbbc8-745d-4ab3-b6b4-6e7001dc4e58",
   "metadata": {},
   "outputs": [],
   "source": [
    "p.kill()"
   ]
  },
  {
   "cell_type": "markdown",
   "id": "0bb662e5-d703-4064-892e-5fab52145da0",
   "metadata": {},
   "source": [
    "## 2. Testowanie API\n",
    "Do testowania API wykorzystamy `pytest` oraz bibliotekę `requests`.\n",
    "### Instalacja pytest:"
   ]
  },
  {
   "cell_type": "code",
   "execution_count": 7,
   "id": "38a951da-2239-4424-9f6b-026ddec0bff2",
   "metadata": {},
   "outputs": [],
   "source": [
    "!pip install pytest requests -q"
   ]
  },
  {
   "cell_type": "code",
   "execution_count": 8,
   "id": "0e5f4bab-2be1-4aba-b97c-6af25ed521b8",
   "metadata": {},
   "outputs": [
    {
     "name": "stdout",
     "output_type": "stream",
     "text": [
      "Writing test_app.py\n"
     ]
    }
   ],
   "source": [
    "%%file test_app.py\n",
    "import pytest\n",
    "import requests\n",
    "\n",
    "def test_home():\n",
    "    response = requests.get(\"http://127.0.0.1:5000/\")\n",
    "    assert response.status_code == 200\n",
    "    assert response.json()[\"message\"] == \"Hello, World!\""
   ]
  },
  {
   "cell_type": "code",
   "execution_count": 9,
   "id": "4f0bc84b-61f0-492b-8b87-badcb04e56dd",
   "metadata": {},
   "outputs": [
    {
     "name": "stdout",
     "output_type": "stream",
     "text": [
      "\u001b[1m============================= test session starts ==============================\u001b[0m\n",
      "platform linux -- Python 3.11.6, pytest-8.3.5, pluggy-1.5.0\n",
      "rootdir: /home/jovyan/notebooks\n",
      "plugins: anyio-4.0.0\n",
      "collected 1 item                                                               \u001b[0m\n",
      "\n",
      "test_app.py \u001b[32m.\u001b[0m\u001b[32m                                                            [100%]\u001b[0m\n",
      "\n",
      "\u001b[32m============================== \u001b[32m\u001b[1m1 passed\u001b[0m\u001b[32m in 0.03s\u001b[0m\u001b[32m ===============================\u001b[0m\n"
     ]
    }
   ],
   "source": [
    "!pytest test_app.py"
   ]
  },
  {
   "cell_type": "code",
   "execution_count": 10,
   "id": "299b348f-f573-45c8-9db2-72ebaecb04c7",
   "metadata": {},
   "outputs": [
    {
     "name": "stdout",
     "output_type": "stream",
     "text": [
      "{'message': 'Hello, World!'}\n"
     ]
    }
   ],
   "source": [
    "# wersja bez testu\n",
    "import requests\n",
    "response = requests.get(\"http://127.0.0.1:5000/\")\n",
    "print(response.json())"
   ]
  },
  {
   "cell_type": "markdown",
   "id": "5ebdb54b-9039-4624-9d92-cb03e7796b2b",
   "metadata": {},
   "source": [
    "## Środowisko Python\n",
    "\n",
    "Aby uruchomić kod aplikacji app.py, potrzebujemy interpretera języka Python zainstalowanego na naszym komputerze. Jednak samo posiadanie interpretera nie jest wystarczające. \n",
    "\n",
    "Należy utworzyć środowisko (najlepiej wirtualne), w którym będą dostępne wszystkie wymagane biblioteki, takie jak Flask.\n",
    "\n",
    "> uwaga: wszystkie polecenia terminala dotyczyć będą wersji linux/mac os\n",
    "\n",
    "W pierwszej kolejności sprawdź czy dostępne są polecenia pozwalające realizować kod pythonowy.\n",
    "```sh\n",
    "which python3\n",
    "which pip3\n",
    "```\n",
    "Wszystkie te polecenia powinny wskazywać na folder z domyślnym środowiskiem Pythona.\n",
    "\n",
    "Wygeneruj i uruchom środowisko wirtualne lokalnie wpisując w terminalu:\n",
    "```sh\n",
    "python3 -m venv .venv\n",
    "source .venv/bin/activate\n",
    "```\n",
    ">Dobra praktyka: środowisko python to nic innego jak katalog. W naszej przypadku to katalog ukryty o nazwie .venv. Jeśli skopiujesz ten katalog gdzie indziej przestanie pełnić on swoją funkcję środowiska python. Dlatego jego odtworzenie nie polega na jego kopiowaniu. Jeśli Twój projekt jest powiązany ze środowiskiem kontroli wersji GIT zadbaj, aby katalog środowiska nie był dodawany do repozytorium. Mozesz wykonać to działanie dodając odpowiedni wpis do pliki .gitignore\n",
    "\n",
    "```sh\n",
    "touch .gitignore\n",
    "echo '.venv/' >> .gitigonre\n",
    "```\n",
    "\n",
    "Posiadając utworzone nowe środowisko sprawdź jakie biblioteki się w nim znajdują.\n",
    "Domyślnie powinny pojawić się biblioteki pip oraz setuptools.\n",
    "```bash\n",
    "pip list \n",
    "\n",
    "Package    Version\n",
    "---------- -------\n",
    "pip        23.2.1\n",
    "setuptools 65.5.0\n",
    "```\n",
    "Mozemy ponownie sprawdzić polecenia python i pip:\n",
    "```bash\n",
    "which python\n",
    "which pip \n",
    "```\n",
    "\n",
    "\n",
    "Doinstaluj bibliotekę flask.\n",
    "```bash\n",
    "pip install flask==3.0.3\n",
    "pip list \n",
    "Package      Version\n",
    "------------ -------\n",
    "blinker      1.7.0\n",
    "click        8.1.7\n",
    "Flask        3.0.3\n",
    "itsdangerous 2.1.2\n",
    "Jinja2       3.1.3\n",
    "MarkupSafe   2.1.5\n",
    "pip          23.2.1\n",
    "setuptools   65.5.0\n",
    "Werkzeug     3.0.2\n",
    "```\n",
    "Jak widać instalacja biblioteki flask wymusiła doinstalowanie równiez innych pakietów.\n",
    "\n",
    "Jedyną mozliwością przeniesienia środowiska python jest jego ponowna instalacja na nowej maszynie i instalacja wszystkich pakietów. Aby jednak nie instalować kazdego pakietu osobno mozemy wykorzystać plik konfiguracyjny requirements.txt zawierający listę pakietów.\n",
    "\n",
    "> Pamiętaj - kazdy pakiet powinien zawierać nr wersji pakietu. W innym przypadku moze okazać się, ze nowe werjse pakietów spowodują brak obsługi twojego kodu.\n",
    "\n",
    "Aby utworzyć plik konfiguracyjny uzyj polecenia w terminalu:\n",
    "```bash\n",
    "pip freeze >> requirements.txt\n",
    "```\n",
    "\n",
    "Tak wygenerowany plik mozesz uzywać na dowolnej maszynie do instalacji i odtworzenia potrzebnego środowiska wykonawczego python.\n",
    "\n",
    "> Dygresja. W momencie przygotowywania materiałów Flask był w wersji 3.0.1 - dziś juz realizowany jest w wersji 3.0.3. Zmiany następują szybciej niz się wydaje.\n",
    "Instalacja pakietów z pliku odbywa się z wykorzystaniem polecenia:\n",
    "```bash\n",
    "pip install -r requierements.txt\n",
    "```\n",
    "Mamy teraz dwa pliki: app.py, i requirements.txt. Przenosząc je do dowolnego projektu na serwerach github jesteśmy w stanie uruchomić naszą aplikację wszędzie tam gdzie dostępny będzie interpreter python na którym mozemy utworzyć nowe wirtualne środowisko i zainstalować biblioteki z pliku requirements.txt.\n",
    "\n",
    "Do pełnej automatyzacji przydałaby się jeszcze mozliwość uruchomienia środowiska python na dowolnej maszynie.\n",
    "\n",
    "W tym celu utwórz plik Dockerfile:\n"
   ]
  },
  {
   "cell_type": "code",
   "execution_count": null,
   "id": "ddf2e91d-9f6b-4514-b80f-86cc64abe58e",
   "metadata": {},
   "outputs": [],
   "source": [
    "%%file Dockerfile\n",
    "FROM python:3.11-slim-buster\n",
    "\n",
    "WORKDIR /app\n",
    "\n",
    "COPY requirements.txt requirements.txt\n",
    "\n",
    "RUN pip install -r requirements.txt\n",
    "\n",
    "COPY app.py .\n",
    "\n",
    "ENV FLASK_APP=app\n",
    "\n",
    "EXPOSE 5000\n",
    "CMD [\"flask\", \"run\", \"--host\", \"0.0.0.0\", \"--port\", \"5000\"]"
   ]
  },
  {
   "cell_type": "markdown",
   "id": "82dbe1a3-ca37-4a34-b06b-0412efc59f2e",
   "metadata": {},
   "source": [
    "Powyzszy plik pozwala w docker desktop uruchomić obraz wykorzystujący podstawowy system operacyjny (tutaj linux) wraz z podstawowym środowiskiem python3.11.\n",
    "\n",
    "Ponadto plik ten kopiuje potrzebne pliki (app.py, requirements.txt) na obraz dockera.\n",
    "\n",
    "Polecenie RUN pozwala uruchomić dowolne polecenie bash wewnątrz obrazu dockera.\n",
    "\n",
    "Polecenie CMD pozwala uruchomić polecenie uruchamiające serwer w trybie tak by nie zamknąć tego polecenia.\n",
    "\n",
    "Ostatnią informacją jest ustalenie portu na 5000.\n",
    "\n"
   ]
  },
  {
   "cell_type": "markdown",
   "id": "6c714a29-6dd3-4a04-acfd-4de053481d7a",
   "metadata": {},
   "source": [
    "utworzenie kontenera na podstawie pliku Dockerfile\n",
    "```bash\n",
    "docker build -t modelML .\n",
    "```\n",
    "uruchomienie kontenera\n",
    "```sh\n",
    "docker run -p 5000:5000 modelML\n",
    "```"
   ]
  }
 ],
 "metadata": {
  "kernelspec": {
   "display_name": "Python 3 (ipykernel)",
   "language": "python",
   "name": "python3"
  },
  "language_info": {
   "codemirror_mode": {
    "name": "ipython",
    "version": 3
   },
   "file_extension": ".py",
   "mimetype": "text/x-python",
   "name": "python",
   "nbconvert_exporter": "python",
   "pygments_lexer": "ipython3",
   "version": "3.11.6"
  }
 },
 "nbformat": 4,
 "nbformat_minor": 5
}
